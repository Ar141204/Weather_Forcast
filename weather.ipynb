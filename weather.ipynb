{
 "cells": [
  {
   "cell_type": "code",
   "execution_count": 1,
   "metadata": {
    "tags": [
     "import"
    ]
   },
   "outputs": [],
   "source": [
    "import requests  # Library for fetching data from APIs\n",
    "import pandas as pd  # For handling and analyzing data\n",
    "import numpy as np  # For numerical operations\n",
    "import pytz\n"
   ]
  },
  {
   "cell_type": "code",
   "execution_count": 2,
   "metadata": {},
   "outputs": [],
   "source": [
    "# Machine Learning utilities\n",
    "from sklearn.model_selection import train_test_split  # Splitting data into training and testing sets\n",
    "from sklearn.preprocessing import LabelEncoder  # Converting categorical data into numerical values\n"
   ]
  },
  {
   "cell_type": "code",
   "execution_count": 3,
   "metadata": {},
   "outputs": [],
   "source": [
    "# Models for classification and regression\n",
    "from sklearn.ensemble import RandomForestClassifier, RandomForestRegressor"
   ]
  },
  {
   "cell_type": "code",
   "execution_count": 4,
   "metadata": {},
   "outputs": [],
   "source": [
    "# Metric for evaluating model performance\n",
    "from sklearn.metrics import mean_squared_error  "
   ]
  },
  {
   "cell_type": "code",
   "execution_count": 5,
   "metadata": {},
   "outputs": [],
   "source": [
    "# Handling date and time\n",
    "from datetime import datetime, timedelta  "
   ]
  },
  {
   "cell_type": "code",
   "execution_count": 6,
   "metadata": {},
   "outputs": [],
   "source": [
    "API_KEY = 'You_API_KEY'  # Replace with your actual API key\n",
    "BASE_URL = 'https://api.openweathermap.org/data/2.5/'  # Base URL for making API requests"
   ]
  },
  {
   "cell_type": "code",
   "execution_count": 7,
   "metadata": {},
   "outputs": [],
   "source": [
    "def get_current_weather(city):\n",
    "    url = f\"{BASE_URL}weather?q={city}&appid={API_KEY}&units=metric\"  # Construct the API request URL\n",
    "    response = requests.get(url)  # Send the GET request to API\n",
    "    data = response.json()\n",
    "    print(\"API Response:\", data)\n",
    "    return {\n",
    "        'city': data['name'],\n",
    "        'current_temp': round(data['main']['temp']),\n",
    "        'feels_like': round(data['main']['feels_like']),\n",
    "        'temp_min': round(data['main']['temp_min']),\n",
    "        'temp_max': round(data['main']['temp_max']),\n",
    "        'humidity': round(data['main']['humidity']),\n",
    "        'description': data['weather'][0]['description'],\n",
    "        'country': data['sys']['country'],\n",
    "        'wind_gust_dir': data.get('wind',{}).get('speed',0),\n",
    "        'pressure': data['main']['pressure'],\n",
    "        'wind_gust_speed': data.get('wind', {}).get('speed', 0)\n",
    "\n",
    "    }"
   ]
  },
  {
   "cell_type": "code",
   "execution_count": 8,
   "metadata": {},
   "outputs": [],
   "source": [
    "def prepare_data(data):\n",
    "    le = LabelEncoder()  # Create a LabelEncoder instance\n",
    "    data['WindGustDir'] = le.fit_transform(data['WindGustDir'])\n",
    "    data['RainTomorrow'] = le.fit_transform(data['RainTomorrow'])\n",
    "\n",
    "    # Define the feature variables and target variables\n",
    "    x = data[['MinTemp', 'MaxTemp', 'WindGustDir', 'WindGustSpeed', 'Humidity', 'Pressure', 'Temp']]  # Feature variables\n",
    "    y = data['RainTomorrow']  # Target variable\n",
    "\n",
    "    return x, y, le  # Return feature variable, target variable, and the LabelEncoder"
   ]
  },
  {
   "cell_type": "code",
   "execution_count": 10,
   "metadata": {},
   "outputs": [],
   "source": [
    "def train_rain_model(x, y):\n",
    "    x_train, x_test, y_train, y_test = train_test_split(x, y, test_size=0.2, random_state=42)\n",
    "    model = RandomForestClassifier(n_estimators=100, random_state=42)\n",
    "    model.fit(x_train, y_train)  # Train the model\n",
    "\n",
    "    y_pred = model.predict(x_test)  # Make predictions on test set\n",
    "    print(\"Mean Squared Error for Rain Model:\", mean_squared_error(y_test, y_pred))\n",
    "\n",
    "    return model"
   ]
  },
  {
   "cell_type": "code",
   "execution_count": 11,
   "metadata": {},
   "outputs": [],
   "source": [
    "def prepare_regression_data(data, feature):\n",
    "    x, y = [], []  # Initialize lists for feature and target values \n",
    "    \n",
    "    for i in range(len(data) - 1):\n",
    "        x.append(data[feature].iloc[i])\n",
    "        y.append(data[feature].iloc[i + 1])\n",
    "\n",
    "    x = np.array(x).reshape(-1, 1)\n",
    "    y = np.array(y)\n",
    "\n",
    "    return x, y"
   ]
  },
  {
   "cell_type": "code",
   "execution_count": 12,
   "metadata": {},
   "outputs": [],
   "source": [
    "def train_regression_model(x, y):\n",
    "    model = RandomForestRegressor(n_estimators=100, random_state=42)\n",
    "    model.fit(x, y)\n",
    "    return model"
   ]
  },
  {
   "cell_type": "code",
   "execution_count": 13,
   "metadata": {},
   "outputs": [],
   "source": [
    "def predict_future(model, current_value):\n",
    "    predictions = [current_value]\n",
    "    for _ in range(5):\n",
    "        next_value = model.predict(np.array([[predictions[-1]]]))\n",
    "        predictions.append(next_value[0])\n",
    "    return predictions[1:]"
   ]
  },
  {
   "cell_type": "code",
   "execution_count": 14,
   "metadata": {},
   "outputs": [],
   "source": [
    "def read_historical_data(file_path):\n",
    "    return pd.read_csv(file_path)"
   ]
  },
  {
   "cell_type": "code",
   "execution_count": 18,
   "metadata": {},
   "outputs": [
    {
     "name": "stdout",
     "output_type": "stream",
     "text": [
      "API Response: {'coord': {'lon': 80.2785, 'lat': 13.0878}, 'weather': [{'id': 801, 'main': 'Clouds', 'description': 'few clouds', 'icon': '02n'}], 'base': 'stations', 'main': {'temp': 26.64, 'feels_like': 26.64, 'temp_min': 26.12, 'temp_max': 26.99, 'pressure': 1015, 'humidity': 81, 'sea_level': 1015, 'grnd_level': 1014}, 'visibility': 6000, 'wind': {'speed': 2.06, 'deg': 130}, 'clouds': {'all': 20}, 'dt': 1740246205, 'sys': {'type': 2, 'id': 2093220, 'country': 'IN', 'sunrise': 1740185922, 'sunset': 1740228386}, 'timezone': 19800, 'id': 1264527, 'name': 'Chennai', 'cod': 200}\n",
      "Current Weather Data: {'city': 'Chennai', 'current_temp': 27, 'feels_like': 27, 'temp_min': 26, 'temp_max': 27, 'humidity': 81, 'description': 'few clouds', 'country': 'IN', 'wind_gust_dir': 2.06, 'pressure': 1015, 'wind_gust_speed': 2.06}\n",
      "Historical Data Columns: Index(['mintemp', 'maxtemp', 'windgustdir', 'windgustspeed', 'humidity',\n",
      "       'pressure', 'temp', 'raintomorrow'],\n",
      "      dtype='object')\n",
      "Historical Data Columns: ['mintemp', 'maxtemp', 'windgustdir', 'windgustspeed', 'humidity', 'pressure', 'temp', 'raintomorrow']\n"
     ]
    },
    {
     "ename": "KeyError",
     "evalue": "'WindGustDir'",
     "output_type": "error",
     "traceback": [
      "\u001b[1;31m---------------------------------------------------------------------------\u001b[0m",
      "\u001b[1;31mKeyError\u001b[0m                                  Traceback (most recent call last)",
      "File \u001b[1;32m~\\AppData\\Local\\Packages\\PythonSoftwareFoundation.Python.3.12_qbz5n2kfra8p0\\LocalCache\\local-packages\\Python312\\site-packages\\pandas\\core\\indexes\\base.py:3805\u001b[0m, in \u001b[0;36mIndex.get_loc\u001b[1;34m(self, key)\u001b[0m\n\u001b[0;32m   3804\u001b[0m \u001b[38;5;28;01mtry\u001b[39;00m:\n\u001b[1;32m-> 3805\u001b[0m     \u001b[38;5;28;01mreturn\u001b[39;00m \u001b[38;5;28;43mself\u001b[39;49m\u001b[38;5;241;43m.\u001b[39;49m\u001b[43m_engine\u001b[49m\u001b[38;5;241;43m.\u001b[39;49m\u001b[43mget_loc\u001b[49m\u001b[43m(\u001b[49m\u001b[43mcasted_key\u001b[49m\u001b[43m)\u001b[49m\n\u001b[0;32m   3806\u001b[0m \u001b[38;5;28;01mexcept\u001b[39;00m \u001b[38;5;167;01mKeyError\u001b[39;00m \u001b[38;5;28;01mas\u001b[39;00m err:\n",
      "File \u001b[1;32mindex.pyx:167\u001b[0m, in \u001b[0;36mpandas._libs.index.IndexEngine.get_loc\u001b[1;34m()\u001b[0m\n",
      "File \u001b[1;32mindex.pyx:196\u001b[0m, in \u001b[0;36mpandas._libs.index.IndexEngine.get_loc\u001b[1;34m()\u001b[0m\n",
      "File \u001b[1;32mpandas\\\\_libs\\\\hashtable_class_helper.pxi:7081\u001b[0m, in \u001b[0;36mpandas._libs.hashtable.PyObjectHashTable.get_item\u001b[1;34m()\u001b[0m\n",
      "File \u001b[1;32mpandas\\\\_libs\\\\hashtable_class_helper.pxi:7089\u001b[0m, in \u001b[0;36mpandas._libs.hashtable.PyObjectHashTable.get_item\u001b[1;34m()\u001b[0m\n",
      "\u001b[1;31mKeyError\u001b[0m: 'WindGustDir'",
      "\nThe above exception was the direct cause of the following exception:\n",
      "\u001b[1;31mKeyError\u001b[0m                                  Traceback (most recent call last)",
      "Cell \u001b[1;32mIn[18], line 85\u001b[0m\n\u001b[0;32m     81\u001b[0m     \u001b[38;5;28;01mfor\u001b[39;00m time,humidity \u001b[38;5;129;01min\u001b[39;00m \u001b[38;5;28mzip\u001b[39m(future_times,future_humidity):\n\u001b[0;32m     82\u001b[0m         \u001b[38;5;28mprint\u001b[39m(\u001b[38;5;124mf\u001b[39m\u001b[38;5;124m\"\u001b[39m\u001b[38;5;132;01m{\u001b[39;00mtime\u001b[38;5;132;01m}\u001b[39;00m\u001b[38;5;124m:\u001b[39m\u001b[38;5;132;01m{\u001b[39;00m\u001b[38;5;28mround\u001b[39m(humidity,\u001b[38;5;241m1\u001b[39m)\u001b[38;5;132;01m}\u001b[39;00m\u001b[38;5;124m%\u001b[39m\u001b[38;5;124m\"\u001b[39m)\n\u001b[1;32m---> 85\u001b[0m \u001b[43mweather_view\u001b[49m\u001b[43m(\u001b[49m\u001b[43m)\u001b[49m\n",
      "Cell \u001b[1;32mIn[18], line 17\u001b[0m, in \u001b[0;36mweather_view\u001b[1;34m()\u001b[0m\n\u001b[0;32m     11\u001b[0m \u001b[38;5;28mprint\u001b[39m(\u001b[38;5;124m\"\u001b[39m\u001b[38;5;124mHistorical Data Columns:\u001b[39m\u001b[38;5;124m\"\u001b[39m, historical_data\u001b[38;5;241m.\u001b[39mcolumns\u001b[38;5;241m.\u001b[39mtolist())\n\u001b[0;32m     16\u001b[0m \u001b[38;5;66;03m#prepare and train the rain prediction model\u001b[39;00m\n\u001b[1;32m---> 17\u001b[0m x,y,le\u001b[38;5;241m=\u001b[39m\u001b[43mprepare_data\u001b[49m\u001b[43m(\u001b[49m\u001b[43m \u001b[49m\u001b[43mhistorical_data\u001b[49m\u001b[43m)\u001b[49m\n\u001b[0;32m     18\u001b[0m rain_model\u001b[38;5;241m=\u001b[39m train_rain_model(x,y)\n\u001b[0;32m     20\u001b[0m \u001b[38;5;66;03m#map wind direction to campass points\u001b[39;00m\n",
      "Cell \u001b[1;32mIn[8], line 3\u001b[0m, in \u001b[0;36mprepare_data\u001b[1;34m(data)\u001b[0m\n\u001b[0;32m      1\u001b[0m \u001b[38;5;28;01mdef\u001b[39;00m \u001b[38;5;21mprepare_data\u001b[39m(data):\n\u001b[0;32m      2\u001b[0m     le \u001b[38;5;241m=\u001b[39m LabelEncoder()  \u001b[38;5;66;03m# Create a LabelEncoder instance\u001b[39;00m\n\u001b[1;32m----> 3\u001b[0m     data[\u001b[38;5;124m'\u001b[39m\u001b[38;5;124mWindGustDir\u001b[39m\u001b[38;5;124m'\u001b[39m] \u001b[38;5;241m=\u001b[39m le\u001b[38;5;241m.\u001b[39mfit_transform(\u001b[43mdata\u001b[49m\u001b[43m[\u001b[49m\u001b[38;5;124;43m'\u001b[39;49m\u001b[38;5;124;43mWindGustDir\u001b[39;49m\u001b[38;5;124;43m'\u001b[39;49m\u001b[43m]\u001b[49m)\n\u001b[0;32m      4\u001b[0m     data[\u001b[38;5;124m'\u001b[39m\u001b[38;5;124mRainTomorrow\u001b[39m\u001b[38;5;124m'\u001b[39m] \u001b[38;5;241m=\u001b[39m le\u001b[38;5;241m.\u001b[39mfit_transform(data[\u001b[38;5;124m'\u001b[39m\u001b[38;5;124mRainTomorrow\u001b[39m\u001b[38;5;124m'\u001b[39m])\n\u001b[0;32m      6\u001b[0m     \u001b[38;5;66;03m# Define the feature variables and target variables\u001b[39;00m\n",
      "File \u001b[1;32m~\\AppData\\Local\\Packages\\PythonSoftwareFoundation.Python.3.12_qbz5n2kfra8p0\\LocalCache\\local-packages\\Python312\\site-packages\\pandas\\core\\frame.py:4102\u001b[0m, in \u001b[0;36mDataFrame.__getitem__\u001b[1;34m(self, key)\u001b[0m\n\u001b[0;32m   4100\u001b[0m \u001b[38;5;28;01mif\u001b[39;00m \u001b[38;5;28mself\u001b[39m\u001b[38;5;241m.\u001b[39mcolumns\u001b[38;5;241m.\u001b[39mnlevels \u001b[38;5;241m>\u001b[39m \u001b[38;5;241m1\u001b[39m:\n\u001b[0;32m   4101\u001b[0m     \u001b[38;5;28;01mreturn\u001b[39;00m \u001b[38;5;28mself\u001b[39m\u001b[38;5;241m.\u001b[39m_getitem_multilevel(key)\n\u001b[1;32m-> 4102\u001b[0m indexer \u001b[38;5;241m=\u001b[39m \u001b[38;5;28;43mself\u001b[39;49m\u001b[38;5;241;43m.\u001b[39;49m\u001b[43mcolumns\u001b[49m\u001b[38;5;241;43m.\u001b[39;49m\u001b[43mget_loc\u001b[49m\u001b[43m(\u001b[49m\u001b[43mkey\u001b[49m\u001b[43m)\u001b[49m\n\u001b[0;32m   4103\u001b[0m \u001b[38;5;28;01mif\u001b[39;00m is_integer(indexer):\n\u001b[0;32m   4104\u001b[0m     indexer \u001b[38;5;241m=\u001b[39m [indexer]\n",
      "File \u001b[1;32m~\\AppData\\Local\\Packages\\PythonSoftwareFoundation.Python.3.12_qbz5n2kfra8p0\\LocalCache\\local-packages\\Python312\\site-packages\\pandas\\core\\indexes\\base.py:3812\u001b[0m, in \u001b[0;36mIndex.get_loc\u001b[1;34m(self, key)\u001b[0m\n\u001b[0;32m   3807\u001b[0m     \u001b[38;5;28;01mif\u001b[39;00m \u001b[38;5;28misinstance\u001b[39m(casted_key, \u001b[38;5;28mslice\u001b[39m) \u001b[38;5;129;01mor\u001b[39;00m (\n\u001b[0;32m   3808\u001b[0m         \u001b[38;5;28misinstance\u001b[39m(casted_key, abc\u001b[38;5;241m.\u001b[39mIterable)\n\u001b[0;32m   3809\u001b[0m         \u001b[38;5;129;01mand\u001b[39;00m \u001b[38;5;28many\u001b[39m(\u001b[38;5;28misinstance\u001b[39m(x, \u001b[38;5;28mslice\u001b[39m) \u001b[38;5;28;01mfor\u001b[39;00m x \u001b[38;5;129;01min\u001b[39;00m casted_key)\n\u001b[0;32m   3810\u001b[0m     ):\n\u001b[0;32m   3811\u001b[0m         \u001b[38;5;28;01mraise\u001b[39;00m InvalidIndexError(key)\n\u001b[1;32m-> 3812\u001b[0m     \u001b[38;5;28;01mraise\u001b[39;00m \u001b[38;5;167;01mKeyError\u001b[39;00m(key) \u001b[38;5;28;01mfrom\u001b[39;00m \u001b[38;5;21;01merr\u001b[39;00m\n\u001b[0;32m   3813\u001b[0m \u001b[38;5;28;01mexcept\u001b[39;00m \u001b[38;5;167;01mTypeError\u001b[39;00m:\n\u001b[0;32m   3814\u001b[0m     \u001b[38;5;66;03m# If we have a listlike key, _check_indexing_error will raise\u001b[39;00m\n\u001b[0;32m   3815\u001b[0m     \u001b[38;5;66;03m#  InvalidIndexError. Otherwise we fall through and re-raise\u001b[39;00m\n\u001b[0;32m   3816\u001b[0m     \u001b[38;5;66;03m#  the TypeError.\u001b[39;00m\n\u001b[0;32m   3817\u001b[0m     \u001b[38;5;28mself\u001b[39m\u001b[38;5;241m.\u001b[39m_check_indexing_error(key)\n",
      "\u001b[1;31mKeyError\u001b[0m: 'WindGustDir'"
     ]
    }
   ],
   "source": [
    "def weather_view():\n",
    "    city=input('Enter any city name:')\n",
    "    current_weather=get_current_weather(city)\n",
    "    print(\"Current Weather Data:\", current_weather)\n",
    "\n",
    "\n",
    "    #load historical data\n",
    "    historical_data=read_historical_data('weather.csv')\n",
    "    historical_data.columns = historical_data.columns.str.lower()\n",
    "    print(\"Historical Data Columns:\", historical_data.columns)\n",
    "    print(\"Historical Data Columns:\", historical_data.columns.tolist())\n",
    "\n",
    "\n",
    "\n",
    "\n",
    "    #prepare and train the rain prediction model\n",
    "    x,y,le=prepare_data( historical_data)\n",
    "    rain_model= train_rain_model(x,y)\n",
    "\n",
    "    #map wind direction to campass points\n",
    "    wind_deg=current_weather['wind_gust_dir']%360\n",
    "    compass_points=[\n",
    "        (\"N\", 0, 11.25), (\"NNE\", 11.25, 33.75), (\"NE\", 33.75, 56.25),\n",
    "        (\"ENE\", 56.25, 78.75),(\"E\", 78.75, 101.25),(\"ESE\", 101.25, 123.75),\n",
    "        (\"SE\", 123.75, 146.25),(\"SSE\", 146.25, 168.75),(\"S\", 168.75, 191.25),\n",
    "        (\"SSW\", 191.25, 213.75),(\"SW\", 213.75, 236.25),(\"WSW\", 236.25, 258.75),\n",
    "        (\"W\", 258.75, 281.25),(\"WNW\", 281.25, 303.75),(\"NW\", 303.75, 326.25),\n",
    "        (\"NNW\", 326.25, 348.75)\n",
    "    ]\n",
    "    compass_direction=next(point for point,start,end in compass_points if start<=wind_deg< end)\n",
    "    compass_direction_encoded=le.transform([compass_direction])[0] if compass_direction in le.classes_ else -1\n",
    "    \n",
    "    current_data = {\n",
    "    'MinTemp': current_weather.get('temp_min', 0),\n",
    "    'MaxTemp': current_weather.get('temp_max', 0),\n",
    "    'windgustdir': current_weather.get('wind_gust_dir', -1),  # Use .get() to avoid KeyError\n",
    "    'WindGustSpeed': current_weather.get('wind_gust_speed', 0),\n",
    "    'Humidity': current_weather.get('humidity', 0),\n",
    "    'Pressure': current_weather.get('pressure', 0),\n",
    "    'Temp': current_weather.get('current_temp', 0),\n",
    "}\n",
    "\n",
    "    current_df=pd.DataFrame([current_data])\n",
    "\n",
    "    #rain prediction\n",
    "    rain_prediction=rain_model.predict(current_df)[0]\n",
    "\n",
    "    #prepare regression model for temperature and humidity\n",
    "    x_temp,y_temp=prepare_regression_data(historical_data,'Temp')\n",
    "    x_hum,y_hum=prepare_regression_data(historical_data,'humidity')\n",
    "    temp_model=train_regression_model(x_temp,y_temp)\n",
    "    hum_model=train_regression_model(x_hum,y_hum)\n",
    "\n",
    "    #predict future temperature and humidity\n",
    "    future_temp=predict_future(temp_model,current_weather['Temp_min'])\n",
    "    future_humidity=predict_future(hum_model,current_weather['humidity'])\n",
    "\n",
    "    #prepare time for future predictions\n",
    "    timezone=pytz.timezone('Asia/Karachi')\n",
    "    now=datetime.now(timezone)\n",
    "    next_hour=now + timedelta(hours=1)\n",
    "    next_hour=next_hour.replace(minute=0,second=0,microsecond=0)\n",
    "\n",
    "    future_times=[(next_hour + timedelta(hours=i)).strftime(\"%H:00\") for i in range(5)]\n",
    "\n",
    "    #display results\n",
    "    print(f\"City:{city},{current_weather['country']}\")\n",
    "    print(f\"Current Temperature:{current_weather['current_temp']}\")\n",
    "    print(f\"Feels Like:{current_weather['feels_like']}\")\n",
    "    print(f\"Minimum Temperature:{current_weather['temp_min']}°C\")\n",
    "    print(f\"Maximum Temperature:{current_weather['temp_max']}°C\")\n",
    "    print(f\"Humidity:{current_weather['humidity']}%\")\n",
    "    print(f\"Weather Prediction:{current_weather['description']}\")\n",
    "    print(f\"Rain Prediction:{'Yes' if rain_prediction else 'No'}\")\n",
    "\n",
    "    print(\"\\nFuture Temperature Prediction:\")\n",
    "    for time,temp in zip(future_times,future_temp):\n",
    "        print(f\"{time}:{round(temp,1)}°C\")\n",
    "\n",
    "    print(\"\\nFuture Humidity Prediction:\")\n",
    "    for time,humidity in zip(future_times,future_humidity):\n",
    "        print(f\"{time}:{round(humidity,1)}%\")\n",
    "\n",
    "\n",
    "weather_view()"
   ]
  },
  {
   "cell_type": "code",
   "execution_count": null,
   "metadata": {},
   "outputs": [],
   "source": []
  },
  {
   "cell_type": "code",
   "execution_count": null,
   "metadata": {},
   "outputs": [],
   "source": []
  },
  {
   "cell_type": "code",
   "execution_count": null,
   "metadata": {},
   "outputs": [],
   "source": []
  },
  {
   "cell_type": "code",
   "execution_count": null,
   "metadata": {},
   "outputs": [],
   "source": []
  }
 ],
 "metadata": {
  "kernelspec": {
   "display_name": "Python 3",
   "language": "python",
   "name": "python3"
  },
  "language_info": {
   "codemirror_mode": {
    "name": "ipython",
    "version": 3
   },
   "file_extension": ".py",
   "mimetype": "text/x-python",
   "name": "python",
   "nbconvert_exporter": "python",
   "pygments_lexer": "ipython3",
   "version": "3.12.9"
  }
 },
 "nbformat": 4,
 "nbformat_minor": 2
}
